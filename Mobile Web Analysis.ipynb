{
 "metadata": {
  "name": "",
  "signature": "sha256:2f1a8c716fdef07280ed9f9d050a345ca3bfc0dee4abdc074a6e0bdf195514d8"
 },
 "nbformat": 3,
 "nbformat_minor": 0,
 "worksheets": [
  {
   "cells": [
    {
     "cell_type": "code",
     "collapsed": false,
     "input": [
      "import numpy as np\n",
      "import matplotlib.pyplot as plt\n",
      "%run PcapParser.py\n",
      "%matplotlib inline"
     ],
     "language": "python",
     "metadata": {},
     "outputs": [],
     "prompt_number": 218
    },
    {
     "cell_type": "heading",
     "level": 3,
     "metadata": {},
     "source": [
      "Log of parsing pcap"
     ]
    },
    {
     "cell_type": "code",
     "collapsed": false,
     "input": [
      "xmlLs = os.listdir(\"./xml\")\n",
      "xmlLs = [item for item in xmlLs if item.endswith('xml')]\n",
      "senarioMap = {}\n",
      "webMap = {}\n",
      "sidMap = []\n",
      "widMap = []\n",
      "summaryLog = open(\"log.txt\", 'w')\n",
      "psrLs = []\n",
      "for idx, xml in enumerate(xmlLs):\n",
      "    print idx, xml\n",
      "    ls = xml.split(\"_\")\n",
      "    senario = ls[0]+\"_\"+ls[1]\n",
      "    web = ls[2]\n",
      "    eventLogName = \"./log/\"+ xml.replace(\".xml\", \".log\")\n",
      "    eventLog = open(eventLogName, 'w')\n",
      "    xmlFile = \"./xml/\" + xml\n",
      "    psr = PcapParser(xmlFile, senario, web, summaryLog, eventLog)\n",
      "    psr.analyze()\n",
      "    psr.log()\n",
      "    if senario not in senarioMap:\n",
      "        senarioMap[senario] = len(sidMap)\n",
      "        sidMap.append(senario)\n",
      "    sid = senarioMap[senario]\n",
      "    if web not in webMap:\n",
      "        webMap[web] = len(webMap)\n",
      "        widMap.append(web)\n",
      "    wid = webMap[web]\n",
      "    psrLs.append((wid, sid, psr))\n"
     ],
     "language": "python",
     "metadata": {},
     "outputs": [
      {
       "output_type": "stream",
       "stream": "stdout",
       "text": [
        "0 t-mobile_android_adobe.com_1329414692.24.xml\n",
        "-------- Summary --------"
       ]
      },
      {
       "output_type": "stream",
       "stream": "stdout",
       "text": [
        "\n",
        "senario: t-mobile_android web: adobe.com\n",
        "start_time: 0.0 end_time: 24.220435\n",
        "pktLoss: 113 pktCnt: 1094\n",
        "tcpTime: 10.493535 objTime: 17.383141 dnsTime 3.128412\n",
        "avgObjTime: 0.327983792453 varObjTime: 0.226308529241\n",
        "eventCnt: 117\n",
        "tcpCnt: 59 objCnt: 53 dnsCnt: 5\n",
        "failEventCnt: 3\n",
        "tcpFailCnt: 0 objFailCnt: 3 dnsFailCnt: 0\n",
        "rttSum: 23.524275\n",
        "diffSiteCnt: 6\n",
        "1 t-mobile_android_amazon.com_1329408864.54.xml\n",
        "-------- Summary --------"
       ]
      },
      {
       "output_type": "stream",
       "stream": "stdout",
       "text": [
        "\n",
        "senario: t-mobile_android web: amazon.com\n",
        "start_time: 0.0 end_time: 12.456418\n",
        "pktLoss: 18 pktCnt: 139\n",
        "tcpTime: 1.216278 objTime: 2.878627 dnsTime 5.382996\n",
        "avgObjTime: 0.411232428571 varObjTime: 0.0185680721048\n",
        "eventCnt: 20\n",
        "tcpCnt: 9 objCnt: 7 dnsCnt: 4\n",
        "failEventCnt: 2\n",
        "tcpFailCnt: 0 objFailCnt: 2 dnsFailCnt: 0\n",
        "rttSum: 4.115517\n",
        "diffSiteCnt: 2\n",
        "2 t-mobile_android_aol.com_1329414398.57.xml\n",
        "-------- Summary --------"
       ]
      },
      {
       "output_type": "stream",
       "stream": "stdout",
       "text": [
        "\n",
        "senario: t-mobile_android web: aol.com\n",
        "start_time: 0.0 end_time: 15.933138\n",
        "pktLoss: 32 pktCnt: 1551\n",
        "tcpTime: 17.622198 objTime: 36.64983 dnsTime 5.278188\n",
        "avgObjTime: 0.469869615385 varObjTime: 0.285545191325\n",
        "eventCnt: 169\n",
        "tcpCnt: 84 objCnt: 78 dnsCnt: 7\n",
        "failEventCnt: 3\n",
        "tcpFailCnt: 0 objFailCnt: 3 dnsFailCnt: 0\n",
        "rttSum: 41.678679\n",
        "diffSiteCnt: 6\n",
        "3 t-mobile_android_cnn.com_1329413778.7.xml\n",
        "-------- Summary --------"
       ]
      },
      {
       "output_type": "stream",
       "stream": "stdout",
       "text": [
        "\n",
        "senario: t-mobile_android web: cnn.com\n",
        "start_time: 0.0 end_time: 22.502203\n",
        "pktLoss: 52 pktCnt: 363\n",
        "tcpTime: 3.300111 objTime: 6.149364 dnsTime 9.722581\n",
        "avgObjTime: 0.267363652174 varObjTime: 0.013498525762\n",
        "eventCnt: 57\n",
        "tcpCnt: 29 objCnt: 23 dnsCnt: 5\n",
        "failEventCnt: 6\n",
        "tcpFailCnt: 0 objFailCnt: 6 dnsFailCnt: 0\n",
        "rttSum: 10.425217\n",
        "diffSiteCnt: 3\n",
        "4 t-mobile_android_google.com_1329407891.11.xml\n",
        "-------- Summary --------"
       ]
      },
      {
       "output_type": "stream",
       "stream": "stdout",
       "text": [
        "\n",
        "senario: t-mobile_android web: google.com\n",
        "start_time: 0.0 end_time: 18.226168\n",
        "pktLoss: 77 pktCnt: 467\n",
        "tcpTime: 1.015849 objTime: 6.190624 dnsTime 4.490366\n",
        "avgObjTime: 1.03177066667 varObjTime: 1.25074675551\n",
        "eventCnt: 17\n",
        "tcpCnt: 8 objCnt: 6 dnsCnt: 3\n",
        "failEventCnt: 2\n",
        "tcpFailCnt: 0 objFailCnt: 2 dnsFailCnt: 0\n",
        "rttSum: 2.934715\n",
        "diffSiteCnt: 2\n",
        "5 t-mobile_android_microsoft.com_1329410272.89.xml\n",
        "-------- Summary --------"
       ]
      },
      {
       "output_type": "stream",
       "stream": "stdout",
       "text": [
        "\n",
        "senario: t-mobile_android web: microsoft.com\n",
        "start_time: 0.0 end_time: 13.346751\n",
        "pktLoss: 59 pktCnt: 639\n",
        "tcpTime: 8.724673 objTime: 17.042458 dnsTime 2.822611\n",
        "avgObjTime: 0.436986102564 varObjTime: 0.149295224676\n",
        "eventCnt: 88\n",
        "tcpCnt: 45 objCnt: 39 dnsCnt: 4\n",
        "failEventCnt: 5\n",
        "tcpFailCnt: 0 objFailCnt: 5 dnsFailCnt: 0\n",
        "rttSum: 20.543745\n",
        "diffSiteCnt: 4\n",
        "6 t-mobile_android_qq.com_1329408349.48.xml\n",
        "-------- Summary --------"
       ]
      },
      {
       "output_type": "stream",
       "stream": "stdout",
       "text": [
        "\n",
        "senario: t-mobile_android web: qq.com\n",
        "start_time: 0.0 end_time: 27.379611\n",
        "pktLoss: 30 pktCnt: 1283\n",
        "tcpTime: 15.983094 objTime: 84.997519 dnsTime 12.439214\n",
        "avgObjTime: 0.885390822917 varObjTime: 0.157264445327\n",
        "eventCnt: 208\n",
        "tcpCnt: 98 objCnt: 96 dnsCnt: 14\n",
        "failEventCnt: 1\n",
        "tcpFailCnt: 0 objFailCnt: 1 dnsFailCnt: 0\n",
        "rttSum: 41.482744\n",
        "diffSiteCnt: 19\n",
        "7 t-mobile_android_rakuten.co.jp_1329415364.64.xml\n",
        "-------- Summary --------"
       ]
      },
      {
       "output_type": "stream",
       "stream": "stdout",
       "text": [
        "\n",
        "senario: t-mobile_android web: rakuten.co.jp\n",
        "start_time: 0.0 end_time: 23.729219\n",
        "pktLoss: 35 pktCnt: 1063\n",
        "tcpTime: 16.183951 objTime: 28.411562 dnsTime 7.645832\n",
        "avgObjTime: 0.350760024691 varObjTime: 0.0624606053654\n",
        "eventCnt: 175\n",
        "tcpCnt: 86 objCnt: 81 dnsCnt: 8\n",
        "failEventCnt: 3\n",
        "tcpFailCnt: 0 objFailCnt: 2 dnsFailCnt: 1\n",
        "rttSum: 37.2689\n",
        "diffSiteCnt: 10\n",
        "8 t-mobile_android_taobao.com_1329409139.61.xml\n",
        "-------- Summary --------"
       ]
      },
      {
       "output_type": "stream",
       "stream": "stdout",
       "text": [
        "\n",
        "senario: t-mobile_android web: taobao.com\n",
        "start_time: 0.0 end_time: 29.904979\n",
        "pktLoss: 39 pktCnt: 640\n",
        "tcpTime: 6.845558 objTime: 19.2532 dnsTime 8.6122\n",
        "avgObjTime: 0.356540740741 varObjTime: 0.454201938285\n",
        "eventCnt: 118\n",
        "tcpCnt: 56 objCnt: 54 dnsCnt: 8\n",
        "failEventCnt: 3\n",
        "tcpFailCnt: 0 objFailCnt: 2 dnsFailCnt: 1\n",
        "rttSum: 18.983544\n",
        "diffSiteCnt: 6\n",
        "9 t-mobile_android_twitter.com_1329408284.32.xml\n",
        "-------- Summary --------"
       ]
      },
      {
       "output_type": "stream",
       "stream": "stdout",
       "text": [
        "\n",
        "senario: t-mobile_android web: twitter.com\n",
        "start_time: 0.0 end_time: 3.931296\n",
        "pktLoss: 0 pktCnt: 23\n",
        "tcpTime: 0.241617 objTime: 0.20564 dnsTime 2.927267\n",
        "avgObjTime: 0.20564 varObjTime: 0.0\n",
        "eventCnt: 5\n",
        "tcpCnt: 2 objCnt: 1 dnsCnt: 2\n",
        "failEventCnt: 0\n",
        "tcpFailCnt: 0 objFailCnt: 0 dnsFailCnt: 0\n",
        "rttSum: 0.44725\n",
        "diffSiteCnt: 1\n",
        "10 t-mobile_firefox_adobe.com_1329414771.53.xml\n",
        "-------- Summary --------"
       ]
      },
      {
       "output_type": "stream",
       "stream": "stdout",
       "text": [
        "\n",
        "senario: t-mobile_firefox web: adobe.com\n",
        "start_time: 0.0 end_time: 7.80663\n",
        "pktLoss: 140 pktCnt: 831\n",
        "tcpTime: 6.336933 objTime: 18.376675 dnsTime 0.552554\n",
        "avgObjTime: 0.316839224138 varObjTime: 0.0336674670144\n",
        "eventCnt: 99\n",
        "tcpCnt: 21 objCnt: 58 dnsCnt: 20\n",
        "failEventCnt: 2\n",
        "tcpFailCnt: 0 objFailCnt: 2 dnsFailCnt: 0\n",
        "rttSum: 21.890127\n",
        "diffSiteCnt: 6\n",
        "11 t-mobile_firefox_amazon.com_1329408898.08.xml\n",
        "-------- Summary --------"
       ]
      },
      {
       "output_type": "stream",
       "stream": "stdout",
       "text": [
        "\n",
        "senario: t-mobile_firefox web: amazon.com\n",
        "start_time: 0.0 end_time: 7.202773\n",
        "pktLoss: 92 pktCnt: 688\n",
        "tcpTime: 5.018787 objTime: 15.299642 dnsTime 0.197834\n",
        "avgObjTime: 0.312237591837 varObjTime: 0.0844970502037\n",
        "eventCnt: 90\n",
        "tcpCnt: 23 objCnt: 49 dnsCnt: 18\n",
        "failEventCnt: 4\n",
        "tcpFailCnt: 3 objFailCnt: 1 dnsFailCnt: 0\n",
        "rttSum: 20.421755\n",
        "diffSiteCnt: 7\n",
        "12 t-mobile_firefox_aol.com_1329414439.45.xml\n",
        "-------- Summary --------"
       ]
      },
      {
       "output_type": "stream",
       "stream": "stdout",
       "text": [
        "\n",
        "senario: t-mobile_firefox web: aol.com\n",
        "start_time: 0.0 end_time: 28.521616\n",
        "pktLoss: 133 pktCnt: 1086\n",
        "tcpTime: 6.493942 objTime: 42.616462 dnsTime 2.270175\n",
        "avgObjTime: 0.655637876923 varObjTime: 7.46869970728\n",
        "eventCnt: 142\n",
        "tcpCnt: 42 objCnt: 65 dnsCnt: 35\n",
        "failEventCnt: 4\n",
        "tcpFailCnt: 1 objFailCnt: 3 dnsFailCnt: 0\n",
        "rttSum: 64.999299\n",
        "diffSiteCnt: 11\n",
        "13 t-mobile_firefox_cnn.com_1329413821.92.xml\n",
        "-------- Summary --------"
       ]
      },
      {
       "output_type": "stream",
       "stream": "stdout",
       "text": [
        "\n",
        "senario: t-mobile_firefox web: cnn.com\n",
        "start_time: 0.0 end_time: 9.257303\n",
        "pktLoss: 269 pktCnt: 1472\n",
        "tcpTime: 9.9943 objTime: 35.6082 dnsTime 2.749436\n",
        "avgObjTime: 0.335926415094 varObjTime: 0.131690354924\n",
        "eventCnt: 196\n",
        "tcpCnt: 48 objCnt: 106 dnsCnt: 42\n",
        "failEventCnt: 7\n",
        "tcpFailCnt: 0 objFailCnt: 7 dnsFailCnt: 0\n",
        "rttSum: 42.270242\n",
        "diffSiteCnt: 19\n",
        "14 t-mobile_firefox_google.com_1329407926.08.xml\n",
        "-------- Summary --------"
       ]
      },
      {
       "output_type": "stream",
       "stream": "stdout",
       "text": [
        "\n",
        "senario: t-mobile_firefox web: google.com\n",
        "start_time: 0.0 end_time: 16.641248\n",
        "pktLoss: 102 pktCnt: 390\n",
        "tcpTime: 2.7348 objTime: 10.466345 dnsTime 1.331357\n",
        "avgObjTime: 0.872195416667 varObjTime: 1.41620237498\n",
        "eventCnt: 42\n",
        "tcpCnt: 8 objCnt: 12 dnsCnt: 22\n",
        "failEventCnt: 3\n",
        "tcpFailCnt: 0 objFailCnt: 2 dnsFailCnt: 1\n",
        "rttSum: 9.304611\n",
        "diffSiteCnt: 2\n",
        "15 t-mobile_firefox_microsoft.com_1329410314.21.xml\n",
        "-------- Summary --------"
       ]
      },
      {
       "output_type": "stream",
       "stream": "stdout",
       "text": [
        "\n",
        "senario: t-mobile_firefox web: microsoft.com\n",
        "start_time: 0.0 end_time: 8.831774\n",
        "pktLoss: 79 pktCnt: 676\n",
        "tcpTime: 3.505356 objTime: 17.189217 dnsTime 0.902109\n",
        "avgObjTime: 0.330561865385 varObjTime: 0.305886456524\n",
        "eventCnt: 113\n",
        "tcpCnt: 21 objCnt: 52 dnsCnt: 40\n",
        "failEventCnt: 2\n",
        "tcpFailCnt: 0 objFailCnt: 2 dnsFailCnt: 0\n",
        "rttSum: 18.958546\n",
        "diffSiteCnt: 9\n",
        "16 t-mobile_firefox_qq.com_1329408409.33.xml\n",
        "-------- Summary --------"
       ]
      },
      {
       "output_type": "stream",
       "stream": "stdout",
       "text": [
        "\n",
        "senario: t-mobile_firefox web: qq.com\n",
        "start_time: 0.0 end_time: 12.408945\n",
        "pktLoss: 158 pktCnt: 1178\n",
        "tcpTime: 8.029486 objTime: 32.634912 dnsTime 4.115289\n",
        "avgObjTime: 0.32634912 varObjTime: 0.261696795987\n",
        "eventCnt: 178\n",
        "tcpCnt: 46 objCnt: 100 dnsCnt: 32\n",
        "failEventCnt: 1\n",
        "tcpFailCnt: 0 objFailCnt: 1 dnsFailCnt: 0\n",
        "rttSum: 29.882565\n",
        "diffSiteCnt: 18\n",
        "17 t-mobile_firefox_rakuten.co.jp_1329415410.54.xml\n",
        "-------- Summary --------"
       ]
      },
      {
       "output_type": "stream",
       "stream": "stdout",
       "text": [
        "\n",
        "senario: t-mobile_firefox web: rakuten.co.jp\n",
        "start_time: 0.0 end_time: 14.993559\n",
        "pktLoss: 289 pktCnt: 1686\n",
        "tcpTime: 9.687227 objTime: 68.214611 dnsTime 3.410223\n",
        "avgObjTime: 0.237681571429 varObjTime: 0.10256629106\n",
        "eventCnt: 376\n",
        "tcpCnt: 47 objCnt: 287 dnsCnt: 42\n",
        "failEventCnt: 1\n",
        "tcpFailCnt: 0 objFailCnt: 1 dnsFailCnt: 0\n",
        "rttSum: 66.622315\n",
        "diffSiteCnt: 18\n",
        "18 t-mobile_firefox_taobao.com_1329409228.03.xml\n",
        "-------- Summary --------"
       ]
      },
      {
       "output_type": "stream",
       "stream": "stdout",
       "text": [
        "\n",
        "senario: t-mobile_firefox web: taobao.com\n",
        "start_time: 0.0 end_time: 10.71295\n",
        "pktLoss: 260 pktCnt: 1845\n",
        "tcpTime: 14.517751 objTime: 72.746766 dnsTime 2.87728\n",
        "avgObjTime: 0.43823353012 varObjTime: 0.238575180671\n",
        "eventCnt: 263\n",
        "tcpCnt: 57 objCnt: 166 dnsCnt: 40\n",
        "failEventCnt: 4\n",
        "tcpFailCnt: 0 objFailCnt: 4 dnsFailCnt: 0\n",
        "rttSum: 56.939613\n",
        "diffSiteCnt: 16\n",
        "19 t-mobile_firefox_twitter.com_1329408311.92.xml\n",
        "-------- Summary --------"
       ]
      },
      {
       "output_type": "stream",
       "stream": "stdout",
       "text": [
        "\n",
        "senario: t-mobile_firefox web: twitter.com\n",
        "start_time: 0.0 end_time: 30.694358\n",
        "pktLoss: 112 pktCnt: 894\n",
        "tcpTime: 5.150891 objTime: 33.091008 dnsTime 0.674654\n",
        "avgObjTime: 2.54546215385 varObjTime: 34.9298242085\n",
        "eventCnt: 54\n",
        "tcpCnt: 15 objCnt: 13 dnsCnt: 26\n",
        "failEventCnt: 0\n",
        "tcpFailCnt: 0 objFailCnt: 0 dnsFailCnt: 0\n",
        "rttSum: 9.915678\n",
        "diffSiteCnt: 7\n",
        "20 verizon_firefox_amazon.com_1329845890.47.xml\n",
        "-------- Summary --------"
       ]
      },
      {
       "output_type": "stream",
       "stream": "stdout",
       "text": [
        "\n",
        "senario: verizon_firefox web: amazon.com\n",
        "start_time: 0.0 end_time: 8.024479\n",
        "pktLoss: 66 pktCnt: 616\n",
        "tcpTime: 4.231183 objTime: 36.640516 dnsTime 6.399755\n",
        "avgObjTime: 1.11031866667 varObjTime: 0.939781069275\n",
        "eventCnt: 72\n",
        "tcpCnt: 21 objCnt: 33 dnsCnt: 18\n",
        "failEventCnt: 14\n",
        "tcpFailCnt: 4 objFailCnt: 10 dnsFailCnt: 0\n",
        "rttSum: 24.882552\n",
        "diffSiteCnt: 7\n",
        "21 verizon_firefox_cnn.com_1329847035.7.xml\n",
        "-------- Summary --------"
       ]
      },
      {
       "output_type": "stream",
       "stream": "stdout",
       "text": [
        "\n",
        "senario: verizon_firefox web: cnn.com\n",
        "start_time: 0.0 end_time: 33.422131\n",
        "pktLoss: 308 pktCnt: 1920\n",
        "tcpTime: 50.740107 objTime: 228.789167 dnsTime 58.63847\n",
        "avgObjTime: 2.11841821296 varObjTime: 4.7903520848\n",
        "eventCnt: 266\n",
        "tcpCnt: 79 objCnt: 108 dnsCnt: 79\n",
        "failEventCnt: 54\n",
        "tcpFailCnt: 19 objFailCnt: 27 dnsFailCnt: 8\n",
        "rttSum: 216.814465\n",
        "diffSiteCnt: 24\n",
        "22 verizon_firefox_google.com_1329845659.54.xml\n",
        "-------- Summary --------"
       ]
      },
      {
       "output_type": "stream",
       "stream": "stdout",
       "text": [
        "\n",
        "senario: verizon_firefox web: google.com\n",
        "start_time: 0.0 end_time: 12.531072\n",
        "pktLoss: 58 pktCnt: 319\n",
        "tcpTime: 2.693059 objTime: 16.622363 dnsTime 1.434356\n",
        "avgObjTime: 1.6622363 varObjTime: 3.34271130405\n",
        "eventCnt: 23\n",
        "tcpCnt: 7 objCnt: 10 dnsCnt: 6\n",
        "failEventCnt: 7\n",
        "tcpFailCnt: 0 objFailCnt: 4 dnsFailCnt: 3\n",
        "rttSum: 13.26626\n",
        "diffSiteCnt: 1\n",
        "23 verizon_firefox_microsoft.com_1329849648.16.xml\n",
        "-------- Summary --------"
       ]
      },
      {
       "output_type": "stream",
       "stream": "stdout",
       "text": [
        "\n",
        "senario: verizon_firefox web: microsoft.com\n",
        "start_time: 0.0 end_time: 16.384754\n",
        "pktLoss: 84 pktCnt: 787\n",
        "tcpTime: 21.146191 objTime: 62.829613 dnsTime 28.507232\n",
        "avgObjTime: 1.25659226 varObjTime: 0.938597984283\n",
        "eventCnt: 128\n",
        "tcpCnt: 35 objCnt: 50 dnsCnt: 43\n",
        "failEventCnt: 6\n",
        "tcpFailCnt: 0 objFailCnt: 6 dnsFailCnt: 0\n",
        "rttSum: 68.28992\n",
        "diffSiteCnt: 10\n",
        "24 verizon_firefox_twitter.com_1329845977.38.xml\n",
        "-------- Summary --------"
       ]
      },
      {
       "output_type": "stream",
       "stream": "stdout",
       "text": [
        "\n",
        "senario: verizon_firefox web: twitter.com\n",
        "start_time: 0.0 end_time: 18.009581\n",
        "pktLoss: 101 pktCnt: 812\n",
        "tcpTime: 10.701185 objTime: 21.72856 dnsTime 10.056749\n",
        "avgObjTime: 1.67142769231 varObjTime: 1.28759279744\n",
        "eventCnt: 53\n",
        "tcpCnt: 16 objCnt: 13 dnsCnt: 24\n",
        "failEventCnt: 0\n",
        "tcpFailCnt: 0 objFailCnt: 0 dnsFailCnt: 0\n",
        "rttSum: 19.379234\n",
        "diffSiteCnt: 6\n",
        "25 wired_android_adobe.com_1329414087.26.xml\n",
        "-------- Summary --------"
       ]
      },
      {
       "output_type": "stream",
       "stream": "stdout",
       "text": [
        "\n",
        "senario: wired_android web: adobe.com\n",
        "start_time: 0.0 end_time: 26.199881\n",
        "pktLoss: 207 pktCnt: 1038\n",
        "tcpTime: 3.882023 objTime: 5.722402 dnsTime 0.685461\n",
        "avgObjTime: 0.105970407407 varObjTime: 0.00658090971509\n",
        "eventCnt: 126\n",
        "tcpCnt: 63 objCnt: 54 dnsCnt: 9\n",
        "failEventCnt: 5\n",
        "tcpFailCnt: 0 objFailCnt: 4 dnsFailCnt: 1\n",
        "rttSum: 7.911924\n",
        "diffSiteCnt: 6\n",
        "26 wired_android_amazon.com_1329408440.26.xml\n",
        "-------- Summary --------"
       ]
      },
      {
       "output_type": "stream",
       "stream": "stdout",
       "text": [
        "\n",
        "senario: wired_android web: amazon.com\n",
        "start_time: 0.0 end_time: 13.146432\n",
        "pktLoss: 16 pktCnt: 117\n",
        "tcpTime: 0.124639 objTime: 0.665575 dnsTime 3.767106\n",
        "avgObjTime: 0.0950821428571 varObjTime: 0.0154958074961\n",
        "eventCnt: 21\n",
        "tcpCnt: 9 objCnt: 7 dnsCnt: 5\n",
        "failEventCnt: 2\n",
        "tcpFailCnt: 0 objFailCnt: 2 dnsFailCnt: 0\n",
        "rttSum: 0.343676\n",
        "diffSiteCnt: 2\n",
        "27 wired_android_cnn.com_1329413311.24.xml\n",
        "-------- Summary --------"
       ]
      },
      {
       "output_type": "stream",
       "stream": "stdout",
       "text": [
        "\n",
        "senario: wired_android web: cnn.com\n",
        "start_time: 0.0 end_time: 14.920534\n",
        "pktLoss: 75 pktCnt: 457\n",
        "tcpTime: 0.574978 objTime: 0.788943 dnsTime 0.318052\n",
        "avgObjTime: 0.0343018695652 varObjTime: 0.0020444658922\n",
        "eventCnt: 58\n",
        "tcpCnt: 29 objCnt: 23 dnsCnt: 6\n",
        "failEventCnt: 6\n",
        "tcpFailCnt: 0 objFailCnt: 6 dnsFailCnt: 0\n",
        "rttSum: 1.548719\n",
        "diffSiteCnt: 3\n",
        "28 wired_android_google.com_1329407050.8.xml\n",
        "-------- Summary --------"
       ]
      },
      {
       "output_type": "stream",
       "stream": "stdout",
       "text": [
        "\n",
        "senario: wired_android web: google.com\n",
        "start_time: 0.0 end_time: 11.815483\n",
        "pktLoss: 8 pktCnt: 8\n",
        "tcpTime: 0.0 objTime: 0.0 dnsTime 0.0\n",
        "avgObjTime: nan varObjTime: nan\n",
        "eventCnt: 0\n",
        "tcpCnt: 0 objCnt: 0 dnsCnt: 0\n",
        "failEventCnt: 4\n",
        "tcpFailCnt: 0 objFailCnt: 0 dnsFailCnt: 4\n",
        "rttSum: 0\n",
        "diffSiteCnt: 0\n",
        "29 wired_android_microsoft.com_1329409781.36.xml\n",
        "-------- Summary --------"
       ]
      },
      {
       "output_type": "stream",
       "stream": "stdout",
       "text": [
        "\n",
        "senario: wired_android web: microsoft.com\n",
        "start_time: 0.0 end_time: 21.147349\n",
        "pktLoss: 47 pktCnt: 540\n",
        "tcpTime: 6.171791 objTime: 12.392258 dnsTime 1.364997\n",
        "avgObjTime: 0.317750205128 varObjTime: 0.260638131453\n",
        "eventCnt: 92\n",
        "tcpCnt: 46 objCnt: 39 dnsCnt: 7\n",
        "failEventCnt: 5\n",
        "tcpFailCnt: 0 objFailCnt: 5 dnsFailCnt: 0\n",
        "rttSum: 13.224909\n",
        "diffSiteCnt: 4\n",
        "30 wired_android_qq.com_1329407822.76.xml\n",
        "-------- Summary --------"
       ]
      },
      {
       "output_type": "stream",
       "stream": "stdout",
       "text": [
        "\n",
        "senario: wired_android web: qq.com\n",
        "start_time: 0.0 end_time: 26.778238\n",
        "pktLoss: 43 pktCnt: 992\n",
        "tcpTime: 24.05508 objTime: 31.57688 dnsTime 10.370199\n",
        "avgObjTime: 0.410089350649 varObjTime: 0.0479610592524\n",
        "eventCnt: 175\n",
        "tcpCnt: 82 objCnt: 77 dnsCnt: 16\n",
        "failEventCnt: 4\n",
        "tcpFailCnt: 0 objFailCnt: 3 dnsFailCnt: 1\n",
        "rttSum: 49.374347\n",
        "diffSiteCnt: 14\n",
        "31 wired_android_rakuten.co.jp_1329415010.38.xml\n",
        "-------- Summary --------"
       ]
      },
      {
       "output_type": "stream",
       "stream": "stdout",
       "text": [
        "\n",
        "senario: wired_android web: rakuten.co.jp\n",
        "start_time: 0.0 end_time: 23.769265\n",
        "pktLoss: 58 pktCnt: 1205\n",
        "tcpTime: 3.157612 objTime: 28.998971 dnsTime 5.012726\n",
        "avgObjTime: 0.353645987805 varObjTime: 0.0869787708125\n",
        "eventCnt: 185\n",
        "tcpCnt: 89 objCnt: 82 dnsCnt: 14\n",
        "failEventCnt: 2\n",
        "tcpFailCnt: 0 objFailCnt: 2 dnsFailCnt: 0\n",
        "rttSum: 5.731762\n",
        "diffSiteCnt: 11\n",
        "32 wired_android_taobao.com_1329408615.95.xml\n",
        "-------- Summary --------"
       ]
      },
      {
       "output_type": "stream",
       "stream": "stdout",
       "text": [
        "\n",
        "senario: wired_android web: taobao.com\n",
        "start_time: 0.0 end_time: 43.446405\n",
        "pktLoss: 142 pktCnt: 569\n",
        "tcpTime: 45.922049 objTime: 34.754981 dnsTime 5.38541\n",
        "avgObjTime: 0.709285326531 varObjTime: 0.907611989724\n",
        "eventCnt: 120\n",
        "tcpCnt: 62 objCnt: 49 dnsCnt: 9\n",
        "failEventCnt: 12\n",
        "tcpFailCnt: 1 objFailCnt: 11 dnsFailCnt: 0\n",
        "rttSum: 79.686025\n",
        "diffSiteCnt: 4\n",
        "33 wired_android_twitter.com_1329407795.13.xml\n",
        "-------- Summary --------"
       ]
      },
      {
       "output_type": "stream",
       "stream": "stdout",
       "text": [
        "\n",
        "senario: wired_android web: twitter.com\n",
        "start_time: 0.0 end_time: 10.956266\n",
        "pktLoss: 0 pktCnt: 13\n",
        "tcpTime: 0.160657 objTime: 0.087407 dnsTime 0.004881\n",
        "avgObjTime: 0.087407 varObjTime: 0.0\n",
        "eventCnt: 5\n",
        "tcpCnt: 2 objCnt: 1 dnsCnt: 2\n",
        "failEventCnt: 0\n",
        "tcpFailCnt: 0 objFailCnt: 0 dnsFailCnt: 0\n",
        "rttSum: 0.234695\n",
        "diffSiteCnt: 1\n",
        "34 wired_firefox_adobe.com_1329414122.34.xml\n",
        "-------- Summary --------"
       ]
      },
      {
       "output_type": "stream",
       "stream": "stdout",
       "text": [
        "\n",
        "senario: wired_firefox web: adobe.com\n",
        "start_time: 0.0 end_time: 10.045967\n",
        "pktLoss: 135 pktCnt: 928\n",
        "tcpTime: 1.167834 objTime: 5.502509 dnsTime 1.680071\n",
        "avgObjTime: 0.0917084833333 varObjTime: 0.00444185265645\n",
        "eventCnt: 99\n",
        "tcpCnt: 21 objCnt: 60 dnsCnt: 18\n",
        "failEventCnt: 2\n",
        "tcpFailCnt: 0 objFailCnt: 2 dnsFailCnt: 0\n",
        "rttSum: 5.554526\n",
        "diffSiteCnt: 6\n",
        "35 wired_firefox_amazon.com_1329408462.02.xml\n",
        "-------- Summary --------"
       ]
      },
      {
       "output_type": "stream",
       "stream": "stdout",
       "text": [
        "\n",
        "senario: wired_firefox web: amazon.com\n",
        "start_time: 0.0 end_time: 8.549684\n",
        "pktLoss: 99 pktCnt: 796\n",
        "tcpTime: 0.123437 objTime: 1.060412 dnsTime 1.751264\n",
        "avgObjTime: 0.0137715844156 varObjTime: 0.00336984210068\n",
        "eventCnt: 124\n",
        "tcpCnt: 26 objCnt: 77 dnsCnt: 21\n",
        "failEventCnt: 1\n",
        "tcpFailCnt: 0 objFailCnt: 1 dnsFailCnt: 0\n",
        "rttSum: 0.464328\n",
        "diffSiteCnt: 9\n",
        "36 wired_firefox_aol.com_1329413943.07.xml\n",
        "-------- Summary --------"
       ]
      },
      {
       "output_type": "stream",
       "stream": "stdout",
       "text": [
        "\n",
        "senario: wired_firefox web: aol.com\n",
        "start_time: 0.0 end_time: 9.535227\n",
        "pktLoss: 193 pktCnt: 1439\n",
        "tcpTime: 2.610305 objTime: 8.923312 dnsTime 0.11327\n",
        "avgObjTime: 0.13520169697 varObjTime: 0.0146945910041\n",
        "eventCnt: 167\n",
        "tcpCnt: 38 objCnt: 66 dnsCnt: 63\n",
        "failEventCnt: 3\n",
        "tcpFailCnt: 0 objFailCnt: 3 dnsFailCnt: 0\n",
        "rttSum: 7.782804\n",
        "diffSiteCnt: 12\n",
        "37 wired_firefox_cnn.com_1329413336.0.xml\n",
        "-------- Summary --------"
       ]
      },
      {
       "output_type": "stream",
       "stream": "stdout",
       "text": [
        "\n",
        "senario: wired_firefox web: cnn.com\n",
        "start_time: 0.0 end_time: 9.396641\n",
        "pktLoss: 221 pktCnt: 1616\n",
        "tcpTime: 0.803529 objTime: 5.168214 dnsTime 1.788192\n",
        "avgObjTime: 0.0445535689655 varObjTime: 0.0249265221445\n",
        "eventCnt: 259\n",
        "tcpCnt: 46 objCnt: 116 dnsCnt: 97\n",
        "failEventCnt: 13\n",
        "tcpFailCnt: 6 objFailCnt: 7 dnsFailCnt: 0\n",
        "rttSum: 2.621477\n",
        "diffSiteCnt: 19\n",
        "38 wired_firefox_google.com_1329407560.8.xml\n",
        "-------- Summary --------"
       ]
      },
      {
       "output_type": "stream",
       "stream": "stdout",
       "text": [
        "\n",
        "senario: wired_firefox web: google.com\n",
        "start_time: 0.0 end_time: 7.95165\n",
        "pktLoss: 61 pktCnt: 389\n",
        "tcpTime: 0.131371 objTime: 0.605371 dnsTime 0.008105\n",
        "avgObjTime: 0.046567 varObjTime: 0.000654641277077\n",
        "eventCnt: 53\n",
        "tcpCnt: 8 objCnt: 13 dnsCnt: 32\n",
        "failEventCnt: 2\n",
        "tcpFailCnt: 0 objFailCnt: 2 dnsFailCnt: 0\n",
        "rttSum: 0.516028\n",
        "diffSiteCnt: 2\n",
        "39 wired_firefox_microsoft.com_1329409812.94.xml\n",
        "-------- Summary --------"
       ]
      },
      {
       "output_type": "stream",
       "stream": "stdout",
       "text": [
        "\n",
        "senario: wired_firefox web: microsoft.com\n",
        "start_time: 0.0 end_time: 10.303914\n",
        "pktLoss: 72 pktCnt: 693\n",
        "tcpTime: 1.378679 objTime: 4.503431 dnsTime 0.995562\n",
        "avgObjTime: 0.0866044423077 varObjTime: 0.0197735984952\n",
        "eventCnt: 116\n",
        "tcpCnt: 23 objCnt: 52 dnsCnt: 41\n",
        "failEventCnt: 5\n",
        "tcpFailCnt: 0 objFailCnt: 5 dnsFailCnt: 0\n",
        "rttSum: 4.659342\n",
        "diffSiteCnt: 10\n",
        "40 wired_firefox_qq.com_1329407865.38.xml\n",
        "-------- Summary --------"
       ]
      },
      {
       "output_type": "stream",
       "stream": "stdout",
       "text": [
        "\n",
        "senario: wired_firefox web: qq.com\n",
        "start_time: 0.0 end_time: 13.160087\n",
        "pktLoss: 132 pktCnt: 1276\n",
        "tcpTime: 15.086223 objTime: 38.522019 dnsTime 1.498538\n",
        "avgObjTime: 0.38522019 varObjTime: 0.048320588953\n",
        "eventCnt: 208\n",
        "tcpCnt: 56 objCnt: 100 dnsCnt: 52\n",
        "failEventCnt: 1\n",
        "tcpFailCnt: 0 objFailCnt: 1 dnsFailCnt: 0\n",
        "rttSum: 42.042697\n",
        "diffSiteCnt: 20\n",
        "41 wired_firefox_rakuten.co.jp_1329415045.88.xml\n",
        "-------- Summary --------"
       ]
      },
      {
       "output_type": "stream",
       "stream": "stdout",
       "text": [
        "\n",
        "senario: wired_firefox web: rakuten.co.jp\n",
        "start_time: 0.0 end_time: 11.786224\n",
        "pktLoss: 561 pktCnt: 2814\n",
        "tcpTime: 3.845548 objTime: 15.997801 dnsTime 0.67922\n",
        "avgObjTime: 0.0567297907801 varObjTime: 0.0207108881549\n",
        "eventCnt: 370\n",
        "tcpCnt: 48 objCnt: 282 dnsCnt: 40\n",
        "failEventCnt: 2\n",
        "tcpFailCnt: 0 objFailCnt: 2 dnsFailCnt: 0\n",
        "rttSum: 14.125286\n",
        "diffSiteCnt: 17\n",
        "42 wired_firefox_taobao.com_1329408680.49.xml\n",
        "-------- Summary --------"
       ]
      },
      {
       "output_type": "stream",
       "stream": "stdout",
       "text": [
        "\n",
        "senario: wired_firefox web: taobao.com\n",
        "start_time: 0.0 end_time: 20.72362\n",
        "pktLoss: 483 pktCnt: 2442\n",
        "tcpTime: 31.025442 objTime: 116.009527 dnsTime 3.307248\n",
        "avgObjTime: 0.77858742953 varObjTime: 1.28969147781\n",
        "eventCnt: 309\n",
        "tcpCnt: 91 objCnt: 149 dnsCnt: 69\n",
        "failEventCnt: 21\n",
        "tcpFailCnt: 7 objFailCnt: 14 dnsFailCnt: 0\n",
        "rttSum: 137.668992\n",
        "diffSiteCnt: 20\n",
        "43 wired_firefox_twitter.com_1329407814.16.xml\n",
        "-------- Summary --------"
       ]
      },
      {
       "output_type": "stream",
       "stream": "stdout",
       "text": [
        "\n",
        "senario: wired_firefox web: twitter.com\n",
        "start_time: 0.0 end_time: 8.120155\n",
        "pktLoss: 323 pktCnt: 718\n",
        "tcpTime: 0.436586 objTime: 0.731467 dnsTime 0.024839\n",
        "avgObjTime: 0.0609555833333 varObjTime: 0.00296471746091\n",
        "eventCnt: 43\n",
        "tcpCnt: 10 objCnt: 12 dnsCnt: 21\n",
        "failEventCnt: 1\n",
        "tcpFailCnt: 0 objFailCnt: 1 dnsFailCnt: 0\n",
        "rttSum: 0.906961\n",
        "diffSiteCnt: 5\n"
       ]
      }
     ],
     "prompt_number": 219
    },
    {
     "cell_type": "heading",
     "level": 3,
     "metadata": {},
     "source": [
      "Web performance across these scenarios"
     ]
    },
    {
     "cell_type": "code",
     "collapsed": false,
     "input": [
      "import numpy as np\n",
      "wlen = len(widMap)\n",
      "slen = len(senarioMap)\n",
      "timePerf = np.zeros((wlen, slen))\n",
      "lossPerf = np.zeros((wlen, slen))\n",
      "rttPerf = np.zeros((wlen, slen))\n",
      "objTimePerf = np.zeros((wlen, slen))\n",
      "dnsTimePerf = np.zeros((wlen, slen))\n",
      "tcpTimePerf = np.zeros((wlen, slen))\n",
      "objCnt = np.zeros((wlen, slen))\n",
      "dnsCnt = np.zeros((wlen, slen))\n",
      "tcpCnt = np.zeros((wlen, slen))\n",
      "avgObjTime = np.zeros((wlen, slen))\n",
      "varObjTime = np.zeros((wlen, slen))\n",
      "eventCnt = np.zeros((wlen, slen))\n",
      "failEventCnt = np.zeros((wlen, slen))\n",
      "diffSiteCnt = np.zeros((wlen, slen))\n",
      "dnsFailCnt = np.zeros((wlen, slen))\n",
      "for wid, sid, psr in psrLs:\n",
      "    timePerf[wid][sid] = psr.end_time - psr.start_time\n",
      "    lossPerf[wid][sid] = psr.pktLoss*1.0/psr.pktCnt\n",
      "    rttPerf[wid][sid]  = psr.rttSum\n",
      "    dnsTimePerf[wid][sid] = psr.dnsTime\n",
      "    tcpTimePerf[wid][sid] = psr.tcpTime\n",
      "    objTimePerf[wid][sid] = psr.objTime\n",
      "    dnsCnt[wid][sid] = psr.dnsCnt\n",
      "    tcpCnt[wid][sid] = psr.tcpCnt\n",
      "    objCnt[wid][sid] = psr.objCnt\n",
      "    avgObjTime[wid][sid] = psr.avgObjTime\n",
      "    varObjTime[wid][sid] = psr.varObjTime\n",
      "    failEventCnt[wid][sid] = psr.failEventCnt\n",
      "    eventCnt[wid][sid] = psr.eventCnt\n",
      "    diffSiteCnt[wid][sid] = psr.diffSiteCnt\n",
      "    dnsFailCnt[wid][sid] = psr.dnsFailCnt"
     ],
     "language": "python",
     "metadata": {},
     "outputs": [],
     "prompt_number": 220
    },
    {
     "cell_type": "code",
     "collapsed": false,
     "input": [
      "def showPerf(perf, chk = True):\n",
      "    print '%15s'% \" \",\n",
      "    for sid, senario in enumerate(sidMap):\n",
      "        print '%15s'% senario,\n",
      "    print\n",
      "    for wid, web in enumerate(widMap):\n",
      "        print '%15s' % web,\n",
      "        for sid, senario in enumerate(sidMap):\n",
      "            if chk and perf[wid][sid] == 0:\n",
      "                print '%15s' % '###',\n",
      "            else:\n",
      "                print '%15f' % perf[wid][sid],\n",
      "        print"
     ],
     "language": "python",
     "metadata": {},
     "outputs": [],
     "prompt_number": 233
    },
    {
     "cell_type": "heading",
     "level": 3,
     "metadata": {},
     "source": [
      "Time Performance"
     ]
    },
    {
     "cell_type": "code",
     "collapsed": false,
     "input": [
      "showPerf(timePerf)"
     ],
     "language": "python",
     "metadata": {},
     "outputs": [
      {
       "output_type": "stream",
       "stream": "stdout",
       "text": [
        "                t-mobile_android t-mobile_firefox verizon_firefox   wired_android   wired_firefox\n",
        "      adobe.com       24.220435        7.806630             ###       26.199881       10.045967\n",
        "     amazon.com       12.456418        7.202773        8.024479       13.146432        8.549684\n",
        "        aol.com       15.933138       28.521616             ###             ###        9.535227\n",
        "        cnn.com       22.502203        9.257303       33.422131       14.920534        9.396641\n",
        "     google.com       18.226168       16.641248       12.531072       11.815483        7.951650\n",
        "  microsoft.com       13.346751        8.831774       16.384754       21.147349       10.303914\n",
        "         qq.com       27.379611       12.408945             ###       26.778238       13.160087\n",
        "  rakuten.co.jp       23.729219       14.993559             ###       23.769265       11.786224\n",
        "     taobao.com       29.904979       10.712950             ###       43.446405       20.723620\n",
        "    twitter.com        3.931296       30.694358       18.009581       10.956266        8.120155\n"
       ]
      }
     ],
     "prompt_number": 234
    },
    {
     "cell_type": "heading",
     "level": 3,
     "metadata": {},
     "source": [
      "Packet Loss Rate"
     ]
    },
    {
     "cell_type": "code",
     "collapsed": false,
     "input": [
      "showPerf(lossPerf)"
     ],
     "language": "python",
     "metadata": {},
     "outputs": [
      {
       "output_type": "stream",
       "stream": "stdout",
       "text": [
        "                t-mobile_android t-mobile_firefox verizon_firefox   wired_android   wired_firefox\n",
        "      adobe.com        0.103291        0.168472             ###        0.199422        0.145474\n",
        "     amazon.com        0.129496        0.133721        0.107143        0.136752        0.124372\n",
        "        aol.com        0.020632        0.122468             ###             ###        0.134121\n",
        "        cnn.com        0.143251        0.182745        0.160417        0.164114        0.136757\n",
        "     google.com        0.164882        0.261538        0.181818        1.000000        0.156812\n",
        "  microsoft.com        0.092332        0.116864        0.106734        0.087037        0.103896\n",
        "         qq.com        0.023383        0.134126             ###        0.043347        0.103448\n",
        "  rakuten.co.jp        0.032926        0.171412             ###        0.048133        0.199360\n",
        "     taobao.com        0.060937        0.140921             ###        0.249561        0.197789\n",
        "    twitter.com             ###        0.125280        0.124384             ###        0.449861\n"
       ]
      }
     ],
     "prompt_number": 235
    },
    {
     "cell_type": "heading",
     "level": 3,
     "metadata": {},
     "source": [
      "Sum of RTT time"
     ]
    },
    {
     "cell_type": "code",
     "collapsed": false,
     "input": [
      "showPerf(rttPerf)"
     ],
     "language": "python",
     "metadata": {},
     "outputs": [
      {
       "output_type": "stream",
       "stream": "stdout",
       "text": [
        "                t-mobile_android t-mobile_firefox verizon_firefox   wired_android   wired_firefox\n",
        "      adobe.com       23.524275       21.890127             ###        7.911924        5.554526\n",
        "     amazon.com        4.115517       20.421755       24.882552        0.343676        0.464328\n",
        "        aol.com       41.678679       64.999299             ###             ###        7.782804\n",
        "        cnn.com       10.425217       42.270242      216.814465        1.548719        2.621477\n",
        "     google.com        2.934715        9.304611       13.266260             ###        0.516028\n",
        "  microsoft.com       20.543745       18.958546       68.289920       13.224909        4.659342\n",
        "         qq.com       41.482744       29.882565             ###       49.374347       42.042697\n",
        "  rakuten.co.jp       37.268900       66.622315             ###        5.731762       14.125286\n",
        "     taobao.com       18.983544       56.939613             ###       79.686025      137.668992\n",
        "    twitter.com        0.447250        9.915678       19.379234        0.234695        0.906961\n"
       ]
      }
     ],
     "prompt_number": 236
    },
    {
     "cell_type": "heading",
     "level": 3,
     "metadata": {},
     "source": [
      "Which stages in the Web downloads take the maximum time for what scenario?"
     ]
    },
    {
     "cell_type": "code",
     "collapsed": false,
     "input": [
      "def showStagePerf():\n",
      "    print '%15s'% \" \",\n",
      "    for sid, senario in enumerate(sidMap):\n",
      "        print '%15s'% senario,\n",
      "    print\n",
      "    for wid, web in enumerate(widMap):\n",
      "        print '%15s' % web,\n",
      "        for sid, senario in enumerate(sidMap):\n",
      "            if dnsTimePerf[wid][sid] == 0:\n",
      "                 print '%15s' % '###',\n",
      "            elif dnsTimePerf[wid][sid] > tcpTimePerf[wid][sid]:\n",
      "                if dnsTimePerf[wid][sid] > objTimePerf[wid][sid]:\n",
      "                    print '%15s' % ('dns '+str(dnsTimePerf[wid][sid])),\n",
      "                else:\n",
      "                    print '%15s' % ('obj '+str(objTimePerf[wid][sid])),\n",
      "            else:\n",
      "                if tcpTimePerf[wid][sid] > objTimePerf[wid][sid]:\n",
      "                    print '%15s' % ('tcp '+str(tcpTimePerf[wid][sid])),\n",
      "                else:\n",
      "                    print '%15s' % ('obj '+str(objTimePerf[wid][sid])),\n",
      "        print\n",
      "showStagePerf()"
     ],
     "language": "python",
     "metadata": {},
     "outputs": [
      {
       "output_type": "stream",
       "stream": "stdout",
       "text": [
        "                t-mobile_android t-mobile_firefox verizon_firefox   wired_android   wired_firefox\n",
        "      adobe.com   obj 17.383141   obj 18.376675             ###    obj 5.722402    obj 5.502509\n",
        "     amazon.com    dns 5.382996   obj 15.299642   obj 36.640516    dns 3.767106    dns 1.751264\n",
        "        aol.com    obj 36.64983   obj 42.616462             ###             ###    obj 8.923312\n",
        "        cnn.com    dns 9.722581     obj 35.6082  obj 228.789167    obj 0.788943    obj 5.168214\n",
        "     google.com    obj 6.190624   obj 10.466345   obj 16.622363             ###    obj 0.605371\n",
        "  microsoft.com   obj 17.042458   obj 17.189217   obj 62.829613   obj 12.392258    obj 4.503431\n",
        "         qq.com   obj 84.997519   obj 32.634912             ###    obj 31.57688   obj 38.522019\n",
        "  rakuten.co.jp   obj 28.411562   obj 68.214611             ###   obj 28.998971   obj 15.997801\n",
        "     taobao.com     obj 19.2532   obj 72.746766             ###   tcp 45.922049  obj 116.009527\n",
        "    twitter.com    dns 2.927267   obj 33.091008    obj 21.72856    tcp 0.160657    obj 0.731467\n"
       ]
      }
     ],
     "prompt_number": 257
    },
    {
     "cell_type": "heading",
     "level": 4,
     "metadata": {},
     "source": [
      "verizon_firefox with cnn.com under object download stage has the maximum download time"
     ]
    },
    {
     "cell_type": "heading",
     "level": 3,
     "metadata": {},
     "source": [
      "Time taken for DNS requests and their variations"
     ]
    },
    {
     "cell_type": "code",
     "collapsed": false,
     "input": [
      "showPerf(dnsTimePerf)"
     ],
     "language": "python",
     "metadata": {},
     "outputs": [
      {
       "output_type": "stream",
       "stream": "stdout",
       "text": [
        "                t-mobile_android t-mobile_firefox verizon_firefox   wired_android   wired_firefox\n",
        "      adobe.com        3.128412        0.552554             ###        0.685461        1.680071\n",
        "     amazon.com        5.382996        0.197834        6.399755        3.767106        1.751264\n",
        "        aol.com        5.278188        2.270175             ###             ###        0.113270\n",
        "        cnn.com        9.722581        2.749436       58.638470        0.318052        1.788192\n",
        "     google.com        4.490366        1.331357        1.434356             ###        0.008105\n",
        "  microsoft.com        2.822611        0.902109       28.507232        1.364997        0.995562\n",
        "         qq.com       12.439214        4.115289             ###       10.370199        1.498538\n",
        "  rakuten.co.jp        7.645832        3.410223             ###        5.012726        0.679220\n",
        "     taobao.com        8.612200        2.877280             ###        5.385410        3.307248\n",
        "    twitter.com        2.927267        0.674654       10.056749        0.004881        0.024839\n"
       ]
      }
     ],
     "prompt_number": 238
    },
    {
     "cell_type": "heading",
     "level": 3,
     "metadata": {},
     "source": [
      "Loss characteristics of DNS requests; can you detect any DNS request timeouts and repeat requests in the same download"
     ]
    },
    {
     "cell_type": "heading",
     "level": 4,
     "metadata": {},
     "source": [
      "Yes, the followint table is the DNS timeout count we detected in different scenarios and webs"
     ]
    },
    {
     "cell_type": "code",
     "collapsed": false,
     "input": [
      "showPerf(dnsFailCnt, False)"
     ],
     "language": "python",
     "metadata": {},
     "outputs": [
      {
       "output_type": "stream",
       "stream": "stdout",
       "text": [
        "                t-mobile_android t-mobile_firefox verizon_firefox   wired_android   wired_firefox\n",
        "      adobe.com        0.000000        0.000000        0.000000        1.000000        0.000000\n",
        "     amazon.com        0.000000        0.000000        0.000000        0.000000        0.000000\n",
        "        aol.com        0.000000        0.000000        0.000000        0.000000        0.000000\n",
        "        cnn.com        0.000000        0.000000        8.000000        0.000000        0.000000\n",
        "     google.com        0.000000        1.000000        3.000000        4.000000        0.000000\n",
        "  microsoft.com        0.000000        0.000000        0.000000        0.000000        0.000000\n",
        "         qq.com        0.000000        0.000000        0.000000        1.000000        0.000000\n",
        "  rakuten.co.jp        1.000000        0.000000        0.000000        0.000000        0.000000\n",
        "     taobao.com        1.000000        0.000000        0.000000        0.000000        0.000000\n",
        "    twitter.com        0.000000        0.000000        0.000000        0.000000        0.000000\n"
       ]
      }
     ],
     "prompt_number": 239
    },
    {
     "cell_type": "heading",
     "level": 3,
     "metadata": {},
     "source": [
      "Number of objects per web page download"
     ]
    },
    {
     "cell_type": "heading",
     "level": 4,
     "metadata": {},
     "source": [
      "The following table is the object count for different scenarios and webs"
     ]
    },
    {
     "cell_type": "code",
     "collapsed": false,
     "input": [
      "showPerf(objCnt)"
     ],
     "language": "python",
     "metadata": {},
     "outputs": [
      {
       "output_type": "stream",
       "stream": "stdout",
       "text": [
        "                t-mobile_android t-mobile_firefox verizon_firefox   wired_android   wired_firefox\n",
        "      adobe.com       53.000000       58.000000             ###       54.000000       60.000000\n",
        "     amazon.com        7.000000       49.000000       33.000000        7.000000       77.000000\n",
        "        aol.com       78.000000       65.000000             ###             ###       66.000000\n",
        "        cnn.com       23.000000      106.000000      108.000000       23.000000      116.000000\n",
        "     google.com        6.000000       12.000000       10.000000             ###       13.000000\n",
        "  microsoft.com       39.000000       52.000000       50.000000       39.000000       52.000000\n",
        "         qq.com       96.000000      100.000000             ###       77.000000      100.000000\n",
        "  rakuten.co.jp       81.000000      287.000000             ###       82.000000      282.000000\n",
        "     taobao.com       54.000000      166.000000             ###       49.000000      149.000000\n",
        "    twitter.com        1.000000       13.000000       13.000000        1.000000       12.000000\n"
       ]
      }
     ],
     "prompt_number": 240
    },
    {
     "cell_type": "heading",
     "level": 3,
     "metadata": {},
     "source": [
      "Number of different sites used for each download"
     ]
    },
    {
     "cell_type": "code",
     "collapsed": false,
     "input": [
      "showPerf(diffSiteCnt)"
     ],
     "language": "python",
     "metadata": {},
     "outputs": [
      {
       "output_type": "stream",
       "stream": "stdout",
       "text": [
        "                t-mobile_android t-mobile_firefox verizon_firefox   wired_android   wired_firefox\n",
        "      adobe.com        6.000000        6.000000             ###        6.000000        6.000000\n",
        "     amazon.com        2.000000        7.000000        7.000000        2.000000        9.000000\n",
        "        aol.com        6.000000       11.000000             ###             ###       12.000000\n",
        "        cnn.com        3.000000       19.000000       24.000000        3.000000       19.000000\n",
        "     google.com        2.000000        2.000000        1.000000             ###        2.000000\n",
        "  microsoft.com        4.000000        9.000000       10.000000        4.000000       10.000000\n",
        "         qq.com       19.000000       18.000000             ###       14.000000       20.000000\n",
        "  rakuten.co.jp       10.000000       18.000000             ###       11.000000       17.000000\n",
        "     taobao.com        6.000000       16.000000             ###        4.000000       20.000000\n",
        "    twitter.com        1.000000        7.000000        6.000000        1.000000        5.000000\n"
       ]
      }
     ],
     "prompt_number": 241
    },
    {
     "cell_type": "heading",
     "level": 3,
     "metadata": {},
     "source": [
      "Number of TCP connections to different websites"
     ]
    },
    {
     "cell_type": "code",
     "collapsed": false,
     "input": [
      "showPerf(tcpCnt)"
     ],
     "language": "python",
     "metadata": {},
     "outputs": [
      {
       "output_type": "stream",
       "stream": "stdout",
       "text": [
        "                t-mobile_android t-mobile_firefox verizon_firefox   wired_android   wired_firefox\n",
        "      adobe.com       59.000000       21.000000             ###       63.000000       21.000000\n",
        "     amazon.com        9.000000       23.000000       21.000000        9.000000       26.000000\n",
        "        aol.com       84.000000       42.000000             ###             ###       38.000000\n",
        "        cnn.com       29.000000       48.000000       79.000000       29.000000       46.000000\n",
        "     google.com        8.000000        8.000000        7.000000             ###        8.000000\n",
        "  microsoft.com       45.000000       21.000000       35.000000       46.000000       23.000000\n",
        "         qq.com       98.000000       46.000000             ###       82.000000       56.000000\n",
        "  rakuten.co.jp       86.000000       47.000000             ###       89.000000       48.000000\n",
        "     taobao.com       56.000000       57.000000             ###       62.000000       91.000000\n",
        "    twitter.com        2.000000       15.000000       16.000000        2.000000       10.000000\n"
       ]
      }
     ],
     "prompt_number": 242
    },
    {
     "cell_type": "heading",
     "level": 3,
     "metadata": {},
     "source": [
      "Average download rate across objects for a given website"
     ]
    },
    {
     "cell_type": "code",
     "collapsed": false,
     "input": [
      "showPerf(avgObjTime)"
     ],
     "language": "python",
     "metadata": {},
     "outputs": [
      {
       "output_type": "stream",
       "stream": "stdout",
       "text": [
        "                t-mobile_android t-mobile_firefox verizon_firefox   wired_android   wired_firefox\n",
        "      adobe.com        0.327984        0.316839             ###        0.105970        0.091708\n",
        "     amazon.com        0.411232        0.312238        1.110319        0.095082        0.013772\n",
        "        aol.com        0.469870        0.655638             ###             ###        0.135202\n",
        "        cnn.com        0.267364        0.335926        2.118418        0.034302        0.044554\n",
        "     google.com        1.031771        0.872195        1.662236             nan        0.046567\n",
        "  microsoft.com        0.436986        0.330562        1.256592        0.317750        0.086604\n",
        "         qq.com        0.885391        0.326349             ###        0.410089        0.385220\n",
        "  rakuten.co.jp        0.350760        0.237682             ###        0.353646        0.056730\n",
        "     taobao.com        0.356541        0.438234             ###        0.709285        0.778587\n",
        "    twitter.com        0.205640        2.545462        1.671428        0.087407        0.060956\n"
       ]
      }
     ],
     "prompt_number": 243
    },
    {
     "cell_type": "heading",
     "level": 3,
     "metadata": {},
     "source": [
      "Variation in the download rate across objects for a given website"
     ]
    },
    {
     "cell_type": "code",
     "collapsed": false,
     "input": [
      "showPerf(varObjTime)"
     ],
     "language": "python",
     "metadata": {},
     "outputs": [
      {
       "output_type": "stream",
       "stream": "stdout",
       "text": [
        "                t-mobile_android t-mobile_firefox verizon_firefox   wired_android   wired_firefox\n",
        "      adobe.com        0.226309        0.033667             ###        0.006581        0.004442\n",
        "     amazon.com        0.018568        0.084497        0.939781        0.015496        0.003370\n",
        "        aol.com        0.285545        7.468700             ###             ###        0.014695\n",
        "        cnn.com        0.013499        0.131690        4.790352        0.002044        0.024927\n",
        "     google.com        1.250747        1.416202        3.342711             nan        0.000655\n",
        "  microsoft.com        0.149295        0.305886        0.938598        0.260638        0.019774\n",
        "         qq.com        0.157264        0.261697             ###        0.047961        0.048321\n",
        "  rakuten.co.jp        0.062461        0.102566             ###        0.086979        0.020711\n",
        "     taobao.com        0.454202        0.238575             ###        0.907612        1.289691\n",
        "    twitter.com             ###       34.929824        1.287593             ###        0.002965\n"
       ]
      }
     ],
     "prompt_number": 244
    },
    {
     "cell_type": "heading",
     "level": 3,
     "metadata": {},
     "source": [
      "Do you observe timeouts? How frequent are they?"
     ]
    },
    {
     "cell_type": "heading",
     "level": 4,
     "metadata": {},
     "source": [
      "Yes, the following table is the timeout count we observed"
     ]
    },
    {
     "cell_type": "code",
     "collapsed": false,
     "input": [
      "print \"Timeout Count\"\n",
      "showPerf(failEventCnt)"
     ],
     "language": "python",
     "metadata": {},
     "outputs": [
      {
       "output_type": "stream",
       "stream": "stdout",
       "text": [
        "Timeout Count\n",
        "                t-mobile_android t-mobile_firefox verizon_firefox   wired_android   wired_firefox\n",
        "      adobe.com        3.000000        2.000000             ###        5.000000        2.000000\n",
        "     amazon.com        2.000000        4.000000       14.000000        2.000000        1.000000\n",
        "        aol.com        3.000000        4.000000             ###             ###        3.000000\n",
        "        cnn.com        6.000000        7.000000       54.000000        6.000000       13.000000\n",
        "     google.com        2.000000        3.000000        7.000000        4.000000        2.000000\n",
        "  microsoft.com        5.000000        2.000000        6.000000        5.000000        5.000000\n",
        "         qq.com        1.000000        1.000000             ###        4.000000        1.000000\n",
        "  rakuten.co.jp        3.000000        1.000000             ###        2.000000        2.000000\n",
        "     taobao.com        3.000000        4.000000             ###       12.000000       21.000000\n",
        "    twitter.com             ###             ###             ###             ###        1.000000\n"
       ]
      }
     ],
     "prompt_number": 245
    },
    {
     "cell_type": "heading",
     "level": 4,
     "metadata": {},
     "source": [
      "Timeout Frequency"
     ]
    },
    {
     "cell_type": "code",
     "collapsed": false,
     "input": [
      "print \"Timeout Frequency\"\n",
      "showPerf(failEventCnt/(failEventCnt + eventCnt))"
     ],
     "language": "python",
     "metadata": {},
     "outputs": [
      {
       "output_type": "stream",
       "stream": "stdout",
       "text": [
        "Timeout Frequency\n",
        "                t-mobile_android t-mobile_firefox verizon_firefox   wired_android   wired_firefox\n",
        "      adobe.com        0.025000        0.019802             nan        0.038168        0.019802\n",
        "     amazon.com        0.090909        0.042553        0.162791        0.086957        0.008000\n",
        "        aol.com        0.017442        0.027397             nan             nan        0.017647\n",
        "        cnn.com        0.095238        0.034483        0.168750        0.093750        0.047794\n",
        "     google.com        0.105263        0.066667        0.233333        1.000000        0.036364\n",
        "  microsoft.com        0.053763        0.017391        0.044776        0.051546        0.041322\n",
        "         qq.com        0.004785        0.005587             nan        0.022346        0.004785\n",
        "  rakuten.co.jp        0.016854        0.002653             nan        0.010695        0.005376\n",
        "     taobao.com        0.024793        0.014981             nan        0.090909        0.063636\n",
        "    twitter.com             ###             ###             ###             ###        0.022727\n"
       ]
      },
      {
       "output_type": "stream",
       "stream": "stderr",
       "text": [
        "-c:2: RuntimeWarning: invalid value encountered in divide\n"
       ]
      }
     ],
     "prompt_number": 246
    },
    {
     "cell_type": "heading",
     "level": 3,
     "metadata": {},
     "source": [
      "The following analysis are based on t-mobile_android_adobe.com\""
     ]
    },
    {
     "cell_type": "code",
     "collapsed": false,
     "input": [
      "xml = \"t-mobile_android_adobe.com_1329414692.24.xml\"\n",
      "ls = xml.split(\"_\")\n",
      "senario = ls[0]+\"_\"+ls[1]\n",
      "web = ls[2]\n",
      "summaryLog = open(\"log.txt\", 'w')\n",
      "eventLogName = \"./log/\"+ xml.replace(\".xml\", \".log\")\n",
      "eventLog = open(eventLogName, 'w')\n",
      "xmlFile = \"./xml/\" + xml\n",
      "psr = PcapParser(xmlFile, senario, web, summaryLog, eventLog)\n",
      "psr.analyze()\n",
      "psr.log()"
     ],
     "language": "python",
     "metadata": {},
     "outputs": [
      {
       "output_type": "stream",
       "stream": "stdout",
       "text": [
        "-------- Summary --------\n",
        "senario: t-mobile_android web: adobe.com\n",
        "start_time: 0.0 end_time: 24.220435\n",
        "pktLoss: 113 pktCnt: 1094\n",
        "tcpTime: 10.493535 objTime: 17.383141 dnsTime 3.128412\n",
        "avgObjTime: 0.327983792453 varObjTime: 0.226308529241\n",
        "eventCnt: 117\n",
        "tcpCnt: 59 objCnt: 53 dnsCnt: 5\n",
        "failEventCnt: 3\n",
        "tcpFailCnt: 0 objFailCnt: 3 dnsFailCnt: 0\n",
        "rttSum: 23.524275\n",
        "diffSiteCnt: 6\n"
       ]
      }
     ],
     "prompt_number": 248
    },
    {
     "cell_type": "code",
     "collapsed": false,
     "input": [
      "NewObjEventLs = []\n",
      "for event in psr.fullEventQueue:\n",
      "    if event.type == \"NewObj\":\n",
      "        NewObjEventLs.append(event)"
     ],
     "language": "python",
     "metadata": {},
     "outputs": [],
     "prompt_number": 163
    },
    {
     "cell_type": "heading",
     "level": 3,
     "metadata": {},
     "source": [
      "Do a sequence number plot evolution for a few interesting flows (sequence number vs time). What can you learn from the sequence number plots?"
     ]
    },
    {
     "cell_type": "heading",
     "level": 4,
     "metadata": {},
     "source": [
      "The following are two example sequence number-time plots. \n",
      "Those plots usually start very slow and then suddenly boost up after a period of time "
     ]
    },
    {
     "cell_type": "code",
     "collapsed": false,
     "input": [
      "i = 2\n",
      "print \"Second New Object Event Sequence Plot\"\n",
      "plt.plot(NewObjEventLs[i].seqFrame, NewObjEventLs[i].seqLs)\n",
      "plt.ylabel('sequence')\n",
      "plt.xlabel('time')"
     ],
     "language": "python",
     "metadata": {},
     "outputs": [
      {
       "output_type": "stream",
       "stream": "stdout",
       "text": [
        "Second New Object Event Sequence Plot\n"
       ]
      },
      {
       "metadata": {},
       "output_type": "pyout",
       "prompt_number": 214,
       "text": [
        "<matplotlib.text.Text at 0x1f0a4b0d0>"
       ]
      },
      {
       "metadata": {},
       "output_type": "display_data",
       "png": "[encoded data removed]",
       "text": [
        "<matplotlib.figure.Figure at 0x1a8b8a150>"
       ]
      }
     ],
     "prompt_number": 214
    },
    {
     "cell_type": "code",
     "collapsed": false,
     "input": [
      "i = 3\n",
      "print \"Third New Object Event Sequence Plot\"\n",
      "plt.plot(NewObjEventLs[i].seqFrame, NewObjEventLs[i].seqLs)\n",
      "plt.ylabel('sequence')\n",
      "plt.xlabel('time')"
     ],
     "language": "python",
     "metadata": {},
     "outputs": [
      {
       "output_type": "stream",
       "stream": "stdout",
       "text": [
        "Third New Object Event Sequence Plot\n"
       ]
      },
      {
       "metadata": {},
       "output_type": "pyout",
       "prompt_number": 215,
       "text": [
        "<matplotlib.text.Text at 0x1f0a5fe90>"
       ]
      },
      {
       "metadata": {},
       "output_type": "display_data",
       "png": "[encoded data removed]",
       "text": [
        "<matplotlib.figure.Figure at 0x1f0aedad0>"
       ]
      }
     ],
     "prompt_number": 215
    },
    {
     "cell_type": "heading",
     "level": 3,
     "metadata": {},
     "source": [
      "Can you comment on the congestion window evolution across few of the sampled connections (DO NOT do this for many connections; its an elaborate process)?"
     ]
    },
    {
     "cell_type": "code",
     "collapsed": false,
     "input": [
      "i = 3\n",
      "plt.plot(NewObjEventLs[i].seqFrame, NewObjEventLs[i].seqLs, label='seq')\n",
      "plt.plot(NewObjEventLs[i].winFrame, NewObjEventLs[i].winLs, label='win')\n",
      "plt.legend()\n",
      "plt.ylabel('size')\n",
      "plt.xlabel('time')\n",
      "plt.title('Congestion window and sequence number')"
     ],
     "language": "python",
     "metadata": {},
     "outputs": [
      {
       "metadata": {},
       "output_type": "pyout",
       "prompt_number": 216,
       "text": [
        "<matplotlib.text.Text at 0x1f0d76990>"
       ]
      },
      {
       "metadata": {},
       "output_type": "display_data",
       "png": "[encoded data removed]",
       "text": [
        "<matplotlib.figure.Figure at 0x1f0b26510>"
       ]
      }
     ],
     "prompt_number": 216
    },
    {
     "cell_type": "heading",
     "level": 3,
     "metadata": {},
     "source": [
      "Does the congestion window match with the actual number of packets sent?"
     ]
    },
    {
     "cell_type": "heading",
     "level": 4,
     "metadata": {},
     "source": [
      "From above graph, sequence number is increase proportionally to conjection window size."
     ]
    }
   ],
   "metadata": {}
  }
 ]
}